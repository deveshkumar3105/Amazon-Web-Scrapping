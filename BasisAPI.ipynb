{
 "cells": [
  {
   "cell_type": "code",
   "execution_count": 2,
   "id": "3d76902e",
   "metadata": {},
   "outputs": [
    {
     "name": "stdout",
     "output_type": "stream",
     "text": [
      "Collecting Flask\n",
      "  Downloading Flask-2.2.3-py3-none-any.whl (101 kB)\n",
      "     ---------------------------------------- 0.0/101.8 kB ? eta -:--:--\n",
      "     ---- ----------------------------------- 10.2/101.8 kB ? eta -:--:--\n",
      "     ---- ----------------------------------- 10.2/101.8 kB ? eta -:--:--\n",
      "     ----------- ------------------------- 30.7/101.8 kB 217.9 kB/s eta 0:00:01\n",
      "     ---------------------- -------------- 61.4/101.8 kB 363.1 kB/s eta 0:00:01\n",
      "     --------------------------------- --- 92.2/101.8 kB 350.1 kB/s eta 0:00:01\n",
      "     ------------------------------------ 101.8/101.8 kB 366.4 kB/s eta 0:00:00\n",
      "Collecting Werkzeug>=2.2.2\n",
      "  Downloading Werkzeug-2.2.3-py3-none-any.whl (233 kB)\n",
      "     ---------------------------------------- 0.0/233.6 kB ? eta -:--:--\n",
      "     ------------------ ------------------- 112.6/233.6 kB 6.4 MB/s eta 0:00:01\n",
      "     ----------------------- -------------- 143.4/233.6 kB 2.1 MB/s eta 0:00:01\n",
      "     ---------------------------- --------- 174.1/233.6 kB 1.2 MB/s eta 0:00:01\n",
      "     -------------------------------------- 233.6/233.6 kB 1.4 MB/s eta 0:00:00\n",
      "Requirement already satisfied: Jinja2>=3.0 in c:\\users\\real robot\\appdata\\local\\programs\\python\\python311\\lib\\site-packages (from Flask) (3.1.2)\n",
      "Collecting itsdangerous>=2.0\n",
      "  Downloading itsdangerous-2.1.2-py3-none-any.whl (15 kB)\n",
      "Collecting click>=8.0\n",
      "  Downloading click-8.1.3-py3-none-any.whl (96 kB)\n",
      "     ---------------------------------------- 0.0/96.6 kB ? eta -:--:--\n",
      "     --------------------------------- ------ 81.9/96.6 kB 2.3 MB/s eta 0:00:01\n",
      "     ---------------------------------------- 96.6/96.6 kB 1.4 MB/s eta 0:00:00\n",
      "Requirement already satisfied: colorama in c:\\users\\real robot\\appdata\\local\\programs\\python\\python311\\lib\\site-packages (from click>=8.0->Flask) (0.4.6)\n",
      "Requirement already satisfied: MarkupSafe>=2.0 in c:\\users\\real robot\\appdata\\local\\programs\\python\\python311\\lib\\site-packages (from Jinja2>=3.0->Flask) (2.1.1)\n",
      "Installing collected packages: Werkzeug, itsdangerous, click, Flask\n",
      "Successfully installed Flask-2.2.3 Werkzeug-2.2.3 click-8.1.3 itsdangerous-2.1.2\n",
      "Note: you may need to restart the kernel to use updated packages.\n"
     ]
    },
    {
     "name": "stderr",
     "output_type": "stream",
     "text": [
      "\n",
      "[notice] A new release of pip is available: 23.0 -> 23.0.1\n",
      "[notice] To update, run: python.exe -m pip install --upgrade pip\n"
     ]
    }
   ],
   "source": [
    "pip install Flask"
   ]
  },
  {
   "cell_type": "code",
   "execution_count": null,
   "id": "144b791e",
   "metadata": {},
   "outputs": [
    {
     "name": "stdout",
     "output_type": "stream",
     "text": [
      " * Serving Flask app '__main__'\n",
      " * Debug mode: off\n"
     ]
    },
    {
     "name": "stderr",
     "output_type": "stream",
     "text": [
      "WARNING: This is a development server. Do not use it in a production deployment. Use a production WSGI server instead.\n",
      " * Running on http://127.0.0.1:5000\n",
      "Press CTRL+C to quit\n",
      "127.0.0.1 - - [16/Apr/2023 12:22:08] \"GET /hello HTTP/1.1\" 200 -\n",
      "127.0.0.1 - - [16/Apr/2023 12:22:08] \"GET /favicon.ico HTTP/1.1\" 404 -\n"
     ]
    }
   ],
   "source": [
    "from flask import Flask\n",
    "\n",
    "app = Flask(__name__)\n",
    "\n",
    "@app.route('/hello')\n",
    "def hello():\n",
    "    return 'Hello, World!'\n",
    "\n",
    "if __name__ == '__main__':\n",
    "    app.run()"
   ]
  },
  {
   "cell_type": "code",
   "execution_count": null,
   "id": "8961ef94",
   "metadata": {},
   "outputs": [],
   "source": []
  }
 ],
 "metadata": {
  "kernelspec": {
   "display_name": "Python 3 (ipykernel)",
   "language": "python",
   "name": "python3"
  },
  "language_info": {
   "codemirror_mode": {
    "name": "ipython",
    "version": 3
   },
   "file_extension": ".py",
   "mimetype": "text/x-python",
   "name": "python",
   "nbconvert_exporter": "python",
   "pygments_lexer": "ipython3",
   "version": "3.11.2"
  }
 },
 "nbformat": 4,
 "nbformat_minor": 5
}
