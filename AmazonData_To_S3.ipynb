{
 "cells": [
  {
   "cell_type": "code",
   "execution_count": 1,
   "id": "9fb41fb4",
   "metadata": {},
   "outputs": [
    {
     "name": "stdout",
     "output_type": "stream",
     "text": [
      "Requirement already satisfied: python-dotenv in c:\\users\\real robot\\appdata\\local\\programs\\python\\python311\\lib\\site-packages (1.0.0)\n"
     ]
    },
    {
     "name": "stderr",
     "output_type": "stream",
     "text": [
      "\n",
      "[notice] A new release of pip is available: 23.0 -> 23.0.1\n",
      "[notice] To update, run: python.exe -m pip install --upgrade pip\n"
     ]
    }
   ],
   "source": [
    "!pip install python-dotenv"
   ]
  },
  {
   "cell_type": "code",
   "execution_count": 17,
   "id": "b158a6c5",
   "metadata": {},
   "outputs": [
    {
     "name": "stderr",
     "output_type": "stream",
     "text": [
      "Python-dotenv could not parse statement starting at line 11\n"
     ]
    },
    {
     "data": {
      "text/plain": [
       "True"
      ]
     },
     "execution_count": 17,
     "metadata": {},
     "output_type": "execute_result"
    }
   ],
   "source": [
    "from dotenv import load_dotenv\n",
    "\n",
    "load_dotenv(dotenv_path='C:/Users/real robot/AWS_IAM_Updated.env')"
   ]
  },
  {
   "cell_type": "code",
   "execution_count": 20,
   "id": "5d3f82b8",
   "metadata": {},
   "outputs": [
    {
     "data": {
      "text/plain": [
       "{'ResponseMetadata': {'RequestId': 'RJ2SY99XT8GDKDWG',\n",
       "  'HostId': '0SHQMEVCENu1J5V67oWW8qXm4gt3aJqz/GTdSg0UlO5WtRVaY6jNP9hr7m8LMzJZrxLWEuejWAI=',\n",
       "  'HTTPStatusCode': 200,\n",
       "  'HTTPHeaders': {'x-amz-id-2': '0SHQMEVCENu1J5V67oWW8qXm4gt3aJqz/GTdSg0UlO5WtRVaY6jNP9hr7m8LMzJZrxLWEuejWAI=',\n",
       "   'x-amz-request-id': 'RJ2SY99XT8GDKDWG',\n",
       "   'date': 'Sat, 15 Apr 2023 15:58:48 GMT',\n",
       "   'x-amz-server-side-encryption': 'AES256',\n",
       "   'etag': '\"68601d3610689e79cf6f950cfa9cdb5c\"',\n",
       "   'server': 'AmazonS3',\n",
       "   'content-length': '0'},\n",
       "  'RetryAttempts': 1},\n",
       " 'ETag': '\"68601d3610689e79cf6f950cfa9cdb5c\"',\n",
       " 'ServerSideEncryption': 'AES256'}"
      ]
     },
     "execution_count": 20,
     "metadata": {},
     "output_type": "execute_result"
    }
   ],
   "source": [
    "import os\n",
    "import boto3\n",
    "import pandas as pd\n",
    "from io import StringIO\n",
    "\n",
    "# Set your AWS access key and secret access key\n",
    "ACCESS_KEY = os.getenv(\"ACCESS_KEY\")\n",
    "SECRET_KEY = os.getenv(\"SECRET_KEY\")\n",
    "\n",
    "# Set the name of your S3 bucket \n",
    "BUCKET_NAME = os.getenv(\"BUCKET_NAME\")\n",
    "\n",
    "\n",
    "#FILE_PATH = os.getenv(\"CSV_FILE_PATH\")\n",
    "\n",
    "# Create Pandas DataFrame from CSV\n",
    "df = pd.read_csv(\"C:/Users/real robot/amazon_scrapped_data_devesh.csv\")\n",
    "\n",
    "# Convert the DataFrame to a CSV string\n",
    "csv_data = df.to_csv(index=False)\n",
    "\n",
    "\n",
    "#csv_buffer = StringIO()\n",
    "#df.to_csv(csv_buffer)\n",
    "\n",
    "\n",
    "# Create an S3 client object\n",
    "s3 = boto3.client('s3', aws_access_key_id=ACCESS_KEY, aws_secret_access_key=SECRET_KEY)\n",
    "\n",
    "'''\n",
    "s3_resource = boto3.resource('s3')\n",
    "s3_resource.Object(BUCKET_NAME,'ScrappedDataToCsv_15Apr2023.csv')\n",
    "'''\n",
    "\n",
    "\n",
    "# Ingest Data to s3 Bucket\n",
    "# Upload the CSV string to the S3 bucket\n",
    "s3.put_object(Bucket=BUCKET_NAME, Key='ScrappedDataToCsv_15Apr2023.csv', Body=csv_data)\n",
    "\n",
    "\n",
    "#name = os.getenv(\"MyName\")\n",
    "#print(name)"
   ]
  },
  {
   "cell_type": "code",
   "execution_count": 21,
   "id": "312dbd47",
   "metadata": {},
   "outputs": [],
   "source": [
    "# The above response message confirms the Successful Ingestion of File To s3 Bucket."
   ]
  },
  {
   "cell_type": "code",
   "execution_count": 16,
   "id": "878aeac2",
   "metadata": {},
   "outputs": [
    {
     "name": "stdout",
     "output_type": "stream",
     "text": [
      "                                               title    price  \\\n",
      "0                 Sonic Origins Plus - PlayStation 5   $39.99   \n",
      "1  PlayStation PS5 Console – God of War Ragnarök ...  $509.00   \n",
      "2                 PlayStation 5 Console CFI-1215A01X  $499.00   \n",
      "3  PlayStation DualSense Wireless Controller - St...   $74.94   \n",
      "4   Minecraft Legends - Deluxe Edition PlayStation 5   $49.99   \n",
      "\n",
      "                                       ratings         reviews  \\\n",
      "0  Previous page of related Sponsored Products             NaN   \n",
      "1                           4.8 out of 5 stars   7,049 ratings   \n",
      "2                           4.8 out of 5 stars   2,485 ratings   \n",
      "3                           4.8 out of 5 stars  71,945 ratings   \n",
      "4  Previous page of related Sponsored Products             NaN   \n",
      "\n",
      "                                    availability  \n",
      "0   This item will be released on June 23, 2023.  \n",
      "1                                       In Stock  \n",
      "2                                       In Stock  \n",
      "3                                            NaN  \n",
      "4  This item will be released on April 18, 2023.  \n"
     ]
    }
   ],
   "source": [
    "df1 = pd.read_csv(\"C:/Users/real robot/amazon_scrapped_data_devesh.csv\")\n",
    "print(df1.head())"
   ]
  },
  {
   "cell_type": "code",
   "execution_count": null,
   "id": "1eb2fa09",
   "metadata": {},
   "outputs": [],
   "source": []
  }
 ],
 "metadata": {
  "kernelspec": {
   "display_name": "Python 3 (ipykernel)",
   "language": "python",
   "name": "python3"
  },
  "language_info": {
   "codemirror_mode": {
    "name": "ipython",
    "version": 3
   },
   "file_extension": ".py",
   "mimetype": "text/x-python",
   "name": "python",
   "nbconvert_exporter": "python",
   "pygments_lexer": "ipython3",
   "version": "3.11.2"
  }
 },
 "nbformat": 4,
 "nbformat_minor": 5
}
